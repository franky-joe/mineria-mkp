{
 "cells": [
  {
   "cell_type": "code",
   "execution_count": null,
   "id": "a1ea7c94",
   "metadata": {},
   "outputs": [],
   "source": [
    "!pip install matplotlib pandas"
   ]
  },
  {
   "cell_type": "code",
   "execution_count": null,
   "id": "706b46d1",
   "metadata": {},
   "outputs": [],
   "source": [
    "import pandas as pd\n",
    "import matplotlib.pyplot as plt\n",
    "import matplotlib.colors as mcolors\n",
    "\n",
    "# Leer el archivo CSV\n",
    "df = pd.read_csv('/home/roko/cursos/mkp/flei4.csv)\n",
    "\n",
    "# Crear una matriz vacía para los valores de color\n",
    "n = df['x'].max()\n",
    "m = df['y'].max()\n",
    "matrix = [[0] * n for _ in range(m)]\n",
    "\n",
    "# Llenar la matriz con los valores de 'rel'\n",
    "for _, row in df.iterrows():\n",
    "    x, y, f, rel = row\n",
    "    if f == 0:\n",
    "        color_value = 0  # Negro si f es 0\n",
    "    else:\n",
    "        color_value = rel\n",
    "    matrix[int(y)-1][int(x)-1] = color_value\n",
    "\n",
    "# Crear la figura y los ejes\n",
    "fig, ax = plt.subplots()\n",
    "\n",
    "# Crear el mapa de colores\n",
    "cmap = plt.cm.Blues  # Puedes cambiar el mapa de colores si lo deseas\n",
    "norm = mcolors.Normalize(vmin=0, vmax=1)\n",
    "\n",
    "# Dibujar la cuadrícula\n",
    "ax.imshow(matrix, cmap=cmap, norm=norm)\n",
    "\n",
    "# Añadir la cuadrícula\n",
    "ax.set_xticks(range(n))\n",
    "ax.set_yticks(range(m))\n",
    "ax.grid(which='both', color='black', linestyle='-', linewidth=2)\n",
    "\n",
    "# Ajustar la escala de los ejes\n",
    "ax.set_xticklabels(range(1, n + 1))\n",
    "ax.set_yticklabels(range(1, m + 1))\n",
    "\n",
    "plt.show()\n"
   ]
  }
 ],
 "metadata": {
  "kernelspec": {
   "display_name": "Python (mi_entorno)",
   "language": "python",
   "name": "mi_entorno"
  }
 },
 "nbformat": 4,
 "nbformat_minor": 5
}
