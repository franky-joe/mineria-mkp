{
 "cells": [
  {
   "cell_type": "code",
   "execution_count": 2,
   "id": "a16276d3",
   "metadata": {},
   "outputs": [],
   "source": [
    "import pandas as pd\n",
    "import matplotlib.pyplot as plt\n",
    "import numpy as np\n",
    "import seaborn as sns\n"
   ]
  },
  {
   "cell_type": "code",
   "execution_count": 3,
   "id": "7d8c5275",
   "metadata": {},
   "outputs": [],
   "source": [
    "\n",
    "def islas_infactibles(input_csv, output_csv):\n",
    "    \n",
    "    infactibles = 0\n",
    "    factibles = 0\n",
    "    numero_islas = 0\n",
    "    # Lee el archivo CSV\n",
    "    df = pd.read_csv(input_csv)\n",
    "    \n",
    "    # Lista para almacenar los resultados\n",
    "    results = []\n",
    "\n",
    "    # Variables para rastrear los 0 consecutivos\n",
    "    consecutive_zeros = 0\n",
    "    start_index = None\n",
    "\n",
    "    # Iterar sobre las filas del DataFrame\n",
    "    for index, row in df.iterrows():\n",
    "        if row['f'] == 0:\n",
    "            infactibles += 1\n",
    "            if consecutive_zeros == 0:\n",
    "                start_index = index + 1  # +1 para que coincida con la fila en el CSV\n",
    "            consecutive_zeros += 1\n",
    "        else:\n",
    "            factibles += 1\n",
    "            if consecutive_zeros > 0:\n",
    "                results.append([start_index, consecutive_zeros])\n",
    "                consecutive_zeros = 0\n",
    "                start_index = None\n",
    "\n",
    "    # Captura el último grupo de 0's si termina con 0\n",
    "    if consecutive_zeros > 0:\n",
    "        results.append([start_index, consecutive_zeros])\n",
    "    numero_islas = len(results)\n",
    "    \n",
    "    # Crea un DataFrame para los resultados\n",
    "    results_df = pd.DataFrame(results, columns=['fila', 'cantidad_0s'])\n",
    "\n",
    "    # Guarda los resultados en un nuevo archivo CSV\n",
    "    results_df.to_csv(output_csv, index=False)\n",
    "    \n",
    "    results = list(zip(*results))\n",
    "    # Imprime los resultados\n",
    "    print(results_df)\n",
    "    return infactibles, factibles, numero_islas, results\n"
   ]
  },
  {
   "cell_type": "code",
   "execution_count": 4,
   "id": "628af847",
   "metadata": {},
   "outputs": [],
   "source": [
    "def islas_factibles(input_csv, output_csv):\n",
    "    infactibles = 0\n",
    "    factibles = 0\n",
    "    numero_islas = 0\n",
    "    \n",
    "    # Lee el archivo CSV\n",
    "    df = pd.read_csv(input_csv)\n",
    "    \n",
    "    # Lista para almacenar los resultados\n",
    "    results = []\n",
    "\n",
    "    # Variables para rastrear los 1 consecutivos\n",
    "    consecutive_ones = 0\n",
    "    start_index = None\n",
    "\n",
    "    # Iterar sobre las filas del DataFrame\n",
    "    for index, row in df.iterrows():\n",
    "        if row['f'] == 1:\n",
    "            factibles += 1\n",
    "            if consecutive_ones == 0:\n",
    "                start_index = index + 1  # +1 para que coincida con la fila en el CSV\n",
    "            consecutive_ones += 1\n",
    "        else:\n",
    "            infactibles += 1\n",
    "            if consecutive_ones > 0:\n",
    "                results.append([start_index, consecutive_ones])\n",
    "                consecutive_ones = 0\n",
    "                start_index = None\n",
    "\n",
    "    # Captura el último grupo de 1's si termina con 1\n",
    "    if consecutive_ones > 0:\n",
    "        results.append([start_index, consecutive_ones])\n",
    "    numero_islas = len(results)\n",
    "    \n",
    "    # Crea un DataFrame para los resultados\n",
    "    results_df = pd.DataFrame(results, columns=['fila', 'cantidad_1s'])\n",
    "\n",
    "    # Guarda los resultados en un nuevo archivo CSV\n",
    "    results_df.to_csv(output_csv, index=False)\n",
    "\n",
    "    # Imprime los resultados\n",
    "    print(results_df)\n",
    "    results = list(zip(*results))\n",
    "    return infactibles, factibles, numero_islas, results\n"
   ]
  },
  {
   "cell_type": "code",
   "execution_count": 5,
   "id": "fd87d0b1",
   "metadata": {},
   "outputs": [],
   "source": [
    "def remover_numero(lista,numero):\n",
    "    while numero in lista:\n",
    "        lista.remove(numero)"
   ]
  },
  {
   "cell_type": "code",
   "execution_count": 6,
   "id": "271235e4",
   "metadata": {},
   "outputs": [],
   "source": [
    "def grafica_linea(lista_numeros):\n",
    "    \"\"\"\n",
    "    Genera un gráfico de líneas a partir de una lista de números.\n",
    "\n",
    "    :param lista_numeros: Lista de números a graficar.\n",
    "    \"\"\"\n",
    "    plt.figure(figsize=(10, 5))\n",
    "    plt.plot(lista_numeros, marker='o', linestyle='-')\n",
    "    plt.title(\"Tamaño islas\")\n",
    "    plt.xlabel(\"Indice isla\")\n",
    "    plt.ylabel(\"Numero de elementos por isla\")\n",
    "    plt.grid(True)\n",
    "    plt.show()\n"
   ]
  },
  {
   "cell_type": "code",
   "execution_count": 7,
   "id": "a1666b5f",
   "metadata": {},
   "outputs": [],
   "source": [
    "def grafica_linea2(lista_numeros1, lista_numeros2):\n",
    "    \"\"\"\n",
    "    Genera un gráfico de líneas a partir de dos listas de números.\n",
    "\n",
    "    :param lista_numeros1: Primera lista de números a graficar (en rojo).\n",
    "    :param lista_numeros2: Segunda lista de números a graficar (en azul).\n",
    "    \"\"\"\n",
    "    plt.figure(figsize=(10, 5))\n",
    "    \n",
    "    # Graficar la primera lista en rojo\n",
    "    plt.plot(lista_numeros1, marker='o', linestyle='-', color='red', label='Lista 1')\n",
    "    \n",
    "    # Graficar la segunda lista en azul\n",
    "    plt.plot(lista_numeros2, marker='o', linestyle='-', color='blue', label='Lista 2')\n",
    "    \n",
    "    # Añadir título y etiquetas\n",
    "    plt.title(\"Comparación de Tamaños de Islas\")\n",
    "    plt.xlabel(\"Índice Isla\")\n",
    "    plt.ylabel(\"Número de Elementos por Isla\")\n",
    "    \n",
    "    # Añadir cuadrícula\n",
    "    plt.grid(True)\n",
    "    \n",
    "    # Añadir leyenda\n",
    "    plt.legend()\n",
    "    \n",
    "    # Mostrar el gráfico\n",
    "    plt.show()\n"
   ]
  },
  {
   "cell_type": "code",
   "execution_count": 8,
   "id": "c975e811",
   "metadata": {},
   "outputs": [],
   "source": [
    "def plot_histogram(lista_numeros):\n",
    "    \"\"\"\n",
    "    Función que recibe una lista de números y genera un gráfico de histograma con cada valor como una barra individual.\n",
    "    \n",
    "    Parámetros:\n",
    "    - lista_numeros: Lista de números (de tipo int o float).\n",
    "    \"\"\"\n",
    "    # Crear un rango único para el eje x\n",
    "    x_range = np.arange(len(lista_numeros))\n",
    "    \n",
    "    plt.bar(x_range, lista_numeros, align='center', alpha=0.7)\n",
    "    plt.xlabel('Índice de valor')\n",
    "    plt.ylabel('Valor')\n",
    "    plt.title('Histograma por valor')\n",
    "    plt.grid(True)\n",
    "    plt.show()"
   ]
  },
  {
   "cell_type": "code",
   "execution_count": 9,
   "id": "a53be543",
   "metadata": {},
   "outputs": [],
   "source": [
    "def intercalate_lists(list1, list2):\n",
    "    intercalated_list = []\n",
    "    length = max(len(list1), len(list2))\n",
    "    for i in range(length):\n",
    "        if i < len(list1):\n",
    "            intercalated_list.append(list1[i])\n",
    "        if i < len(list2):\n",
    "            intercalated_list.append(list2[i])\n",
    "    return intercalated_list\n",
    "\n",
    "def scatter_plot2(list1, list2, title='Scatter Plot'):\n",
    "    plt.figure(figsize=(8, 6))  # Tamaño opcional para la figura\n",
    "    \n",
    "    # Intercalar las listas\n",
    "    intercalated_list = intercalate_lists(list1, list2)\n",
    "    \n",
    "    # Crear listas de índices y colores\n",
    "    x = list(range(len(intercalated_list)))\n",
    "    y = intercalated_list\n",
    "    colors = ['red' if i % 2 == 0 else 'blue' for i in range(len(intercalated_list))]\n",
    "    \n",
    "    plt.scatter(x, y, alpha=0.6, s=50, c=colors)  # Usar los colores intercalados\n",
    "    plt.title(title)\n",
    "    plt.xlabel('Índice del Elemento')\n",
    "    plt.ylabel('Valor')\n",
    "    plt.grid(True)  # Añadir cuadrícula opcionalmente\n",
    "    plt.show()"
   ]
  },
  {
   "cell_type": "code",
   "execution_count": 10,
   "id": "91d5e14d",
   "metadata": {},
   "outputs": [],
   "source": [
    "def scatter_plot(data, title='Scatter Plot'):\n",
    "    plt.figure(figsize=(8, 6))  # Tamaño opcional para la figura\n",
    "    \n",
    "    # Coordenadas x: valores secuenciales\n",
    "    x = list(range(len(data)))\n",
    "    # Coordenadas y: valores de la lista de datos\n",
    "    y = data\n",
    "    \n",
    "    plt.scatter(x, y, alpha=0.6, s=50)  # Ajustar alpha y tamaño de los marcadores\n",
    "    plt.title(title)\n",
    "    plt.xlabel('Índice del Elemento')\n",
    "    plt.ylabel('Valor')\n",
    "    plt.grid(True)  # Añadir cuadrícula opcionalmente\n",
    "    plt.show()\n"
   ]
  },
  {
   "cell_type": "code",
   "execution_count": 11,
   "id": "21aa53e5",
   "metadata": {},
   "outputs": [],
   "source": [
    "def plot_dual_violin(data1, data2, title=\"Violin Plot\"):\n",
    "    # Verificar que las listas tengan la misma longitud\n",
    "    if len(data1) != len(data2):\n",
    "        raise ValueError(\"Las listas deben tener la misma longitud\")\n",
    "\n",
    "    # Crear un DataFrame combinando los datos\n",
    "    df = pd.DataFrame({\n",
    "        'Datos1': data1,\n",
    "        'Datos2': data2\n",
    "    })\n",
    "\n",
    "    # Configurar el tamaño del gráfico\n",
    "    plt.figure(figsize=(10, 6))\n",
    "\n",
    "    # Crear el gráfico de violín\n",
    "    sns.violinplot(data=df, inner=\"quartile\")\n",
    "\n",
    "    # Personalizar el gráfico\n",
    "    plt.title(title)\n",
    "    plt.xlabel('Grupos')\n",
    "    plt.ylabel('Datos')\n",
    "    plt.grid(True)\n",
    "    plt.show()"
   ]
  },
  {
   "cell_type": "code",
   "execution_count": 12,
   "id": "e78f1575",
   "metadata": {},
   "outputs": [],
   "source": [
    "def plot_histogram_with_frequencies(data):\n",
    "    plt.plot(data, alpha=0.7)\n",
    "    plt.xlabel('Orden de Frecuencias')\n",
    "    plt.ylabel('Frecuencia')\n",
    "    plt.title('Histograma de Frecuencia de Valores')\n",
    "    plt.show()"
   ]
  },
  {
   "cell_type": "code",
   "execution_count": 21,
   "id": "0cdeb9ef",
   "metadata": {},
   "outputs": [
    {
     "name": "stdout",
     "output_type": "stream",
     "text": [
      "          fila  cantidad_0s\n",
      "0          510            2\n",
      "1          767            1\n",
      "2          894            2\n",
      "3          983            1\n",
      "4          991            1\n",
      "...        ...          ...\n",
      "84203  1040769          127\n",
      "84204  1040897            1\n",
      "84205  1040899          509\n",
      "84206  1041409            1\n",
      "84207  1041411         7165\n",
      "\n",
      "[84208 rows x 2 columns]\n",
      "          fila  cantidad_1s\n",
      "0            1          509\n",
      "1          512          255\n",
      "2          768          126\n",
      "3          896           87\n",
      "4          984            7\n",
      "...        ...          ...\n",
      "84204  1040896            1\n",
      "84205  1040898            1\n",
      "84206  1041408            1\n",
      "84207  1041410            1\n",
      "84208  1048576            1\n",
      "\n",
      "[84209 rows x 2 columns]\n",
      "Infactibles = 794738, Factibles = 253838, N_islas_inf_flei = 84208\n",
      "Infactibles = 794738, Factibles = 253838, N_islas_fac_flei = 84209\n"
     ]
    }
   ],
   "source": [
    "input_csv = '/home/roko/cursos/mkp/resultados/flei/flei.csv'\n",
    "output_inf_csv = 'resultado_infactibles.csv'\n",
    "output_fac_csv = 'resultado_factibles.csv'\n",
    "infactibles, factibles, numero_islas, flei_inf = islas_infactibles(input_csv, output_inf_csv)\n",
    "infactibles_f, factibles_f, numero_islas_f, flei_fac = islas_factibles(input_csv, output_fac_csv)\n",
    "\n",
    "print(f\"Infactibles = {infactibles}, Factibles = {factibles}, N_islas_inf_flei = {numero_islas}\")\n",
    "print(f\"Infactibles = {infactibles_f}, Factibles = {factibles_f}, N_islas_fac_flei = {numero_islas_f}\")\n"
   ]
  },
  {
   "cell_type": "code",
   "execution_count": 17,
   "id": "4b82a12e",
   "metadata": {},
   "outputs": [
    {
     "name": "stdout",
     "output_type": "stream",
     "text": [
      "      fila  cantidad_0s\n",
      "0     1151            1\n",
      "1     1278            2\n",
      "2     1339            1\n",
      "3     1342            2\n",
      "4     1401            7\n",
      "..     ...          ...\n",
      "490  31591           25\n",
      "491  31626            6\n",
      "492  31638           10\n",
      "493  31651           29\n",
      "494  31688         1080\n",
      "\n",
      "[495 rows x 2 columns]\n",
      "      fila  cantidad_1s\n",
      "0        1         1150\n",
      "1     1152          126\n",
      "2     1280           59\n",
      "3     1340            2\n",
      "4     1344           57\n",
      "..     ...          ...\n",
      "491  31616           10\n",
      "492  31632            6\n",
      "493  31648            3\n",
      "494  31680            8\n",
      "495  32768            1\n",
      "\n",
      "[496 rows x 2 columns]\n",
      "Infactibles = 10610, Factibles = 22158, N_islas_inf_pet3 = 495\n",
      "Infactibles = 10610, Factibles = 22158, N_islas_fac_pet3 = 496\n"
     ]
    }
   ],
   "source": [
    "input_csv = '/home/roko/cursos/mkp/resultados/pet3/pet3resu.csv'\n",
    "output_inf_csv = 'resultado_infactibles.csv'\n",
    "output_fac_csv = 'resultado_factibles.csv'\n",
    "infactibles, factibles, numero_islas, pet3_inf = islas_infactibles(input_csv, output_inf_csv)\n",
    "infactibles_f, factibles_f, numero_islas_f, pet3_fac = islas_factibles(input_csv, output_fac_csv)\n",
    "\n",
    "print(f\"Infactibles = {infactibles}, Factibles = {factibles}, N_islas_inf_pet3 = {numero_islas}\")\n",
    "print(f\"Infactibles = {infactibles_f}, Factibles = {factibles_f}, N_islas_fac_pet3 = {numero_islas_f}\")"
   ]
  },
  {
   "cell_type": "code",
   "execution_count": 24,
   "id": "aad32dee",
   "metadata": {},
   "outputs": [
    {
     "name": "stdout",
     "output_type": "stream",
     "text": [
      "    fila  cantidad_0s\n",
      "0     13            1\n",
      "1     15            1\n",
      "2     29            1\n",
      "3     31            1\n",
      "4     45            1\n",
      "..   ...          ...\n",
      "82   952            8\n",
      "83   964           12\n",
      "84   980           12\n",
      "85   996           12\n",
      "86  1012           12\n",
      "\n",
      "[87 rows x 2 columns]\n",
      "    fila  cantidad_1s\n",
      "0      1           12\n",
      "1     14            1\n",
      "2     16           13\n",
      "3     30            1\n",
      "4     32           13\n",
      "..   ...          ...\n",
      "83   960            4\n",
      "84   976            4\n",
      "85   992            4\n",
      "86  1008            4\n",
      "87  1024            1\n",
      "\n",
      "[88 rows x 2 columns]\n",
      "Infactibles = 380, Factibles = 644, N_islas_inf_pet2 = 87\n",
      "Infactibles = 380, Factibles = 644, N_islas_fac_pet2 = 88\n"
     ]
    }
   ],
   "source": [
    "input_csv = '/home/roko/cursos/mkp/resultados/pet2/pet2resu.csv'\n",
    "output_inf_csv = 'resultado_infactibles.csv'\n",
    "output_fac_csv = 'resultado_factibles.csv'\n",
    "infactibles, factibles, numero_islas, pet2_inf = islas_infactibles(input_csv, output_inf_csv)\n",
    "infactibles_f, factibles_f, numero_islas_f, pet2_fac = islas_factibles(input_csv, output_fac_csv)\n",
    "\n",
    "print(f\"Infactibles = {infactibles}, Factibles = {factibles}, N_islas_inf_pet2 = {numero_islas}\")\n",
    "print(f\"Infactibles = {infactibles_f}, Factibles = {factibles_f}, N_islas_fac_pet2 = {numero_islas_f}\")"
   ]
  },
  {
   "cell_type": "code",
   "execution_count": 28,
   "id": "20e4882e",
   "metadata": {},
   "outputs": [
    {
     "name": "stdout",
     "output_type": "stream",
     "text": [
      "   fila  cantidad_0s\n",
      "0     9            7\n",
      "1    24            8\n",
      "2    39            9\n",
      "3    51            1\n",
      "4    53           11\n",
      "   fila  cantidad_1s\n",
      "0     1            8\n",
      "1    16            8\n",
      "2    32            7\n",
      "3    48            3\n",
      "4    52            1\n",
      "5    64            1\n",
      "Infactibles = 36, Factibles = 28, N_islas_inf_pet2 = 5\n",
      "Infactibles = 36, Factibles = 28, N_islas_fac_pet2 = 6\n"
     ]
    }
   ],
   "source": [
    "input_csv = '/home/roko/cursos/mkp/resultados/pet1/pet1resu.csv'\n",
    "output_inf_csv = 'resultado_infactibles.csv'\n",
    "output_fac_csv = 'resultado_factibles.csv'\n",
    "infactibles, factibles, numero_islas, pet1_inf = islas_infactibles(input_csv, output_inf_csv)\n",
    "infactibles_f, factibles_f, numero_islas_f, pet1_fac = islas_factibles(input_csv, output_fac_csv)\n",
    "\n",
    "print(f\"Infactibles = {infactibles}, Factibles = {factibles}, N_islas_inf_pet2 = {numero_islas}\")\n",
    "print(f\"Infactibles = {infactibles_f}, Factibles = {factibles_f}, N_islas_fac_pet2 = {numero_islas_f}\")"
   ]
  },
  {
   "cell_type": "code",
   "execution_count": 18,
   "id": "0ac7486c",
   "metadata": {},
   "outputs": [
    {
     "data": {
      "image/png": "[encoded data removed]",
      "text/plain": [
       "<Figure size 720x360 with 1 Axes>"
      ]
     },
     "metadata": {
      "needs_background": "light"
     },
     "output_type": "display_data"
    }
   ],
   "source": [
    "grafica_linea(flei_inf[1])"
   ]
  },
  {
   "cell_type": "code",
   "execution_count": 25,
   "id": "e134d50e",
   "metadata": {},
   "outputs": [
    {
     "data": {
      "image/png": "[encoded data removed]",
      "text/plain": [
       "<Figure size 720x360 with 1 Axes>"
      ]
     },
     "metadata": {
      "needs_background": "light"
     },
     "output_type": "display_data"
    },
    {
     "data": {
      "image/png": "[encoded data removed]",
      "text/plain": [
       "<Figure size 720x360 with 1 Axes>"
      ]
     },
     "metadata": {
      "needs_background": "light"
     },
     "output_type": "display_data"
    },
    {
     "ename": "NameError",
     "evalue": "name 'pet2_inf' is not defined",
     "output_type": "error",
     "traceback": [
      "\u001b[0;31m---------------------------------------------------------------------------\u001b[0m",
      "\u001b[0;31mNameError\u001b[0m                                 Traceback (most recent call last)",
      "Input \u001b[0;32mIn [25]\u001b[0m, in \u001b[0;36m<cell line: 3>\u001b[0;34m()\u001b[0m\n\u001b[1;32m      1\u001b[0m grafica_linea2(flei_inf[\u001b[38;5;241m1\u001b[39m], flei_fac[\u001b[38;5;241m1\u001b[39m])\n\u001b[1;32m      2\u001b[0m grafica_linea2(pet3_inf[\u001b[38;5;241m1\u001b[39m], pet3_fac[\u001b[38;5;241m1\u001b[39m])\n\u001b[0;32m----> 3\u001b[0m grafica_linea2(\u001b[43mpet2_inf\u001b[49m[\u001b[38;5;241m1\u001b[39m], pet2_fac[\u001b[38;5;241m1\u001b[39m])\n",
      "\u001b[0;31mNameError\u001b[0m: name 'pet2_inf' is not defined"
     ]
    }
   ],
   "source": [
    "grafica_linea2(flei_inf[1], flei_fac[1])\n",
    "grafica_linea2(pet3_inf[1], pet3_fac[1])\n",
    "grafica_linea2(pet2_inf[1], pet2_fac[1])\n",
    "grafica_linea2(pet1_inf[1], pet1_fac[1])\n",
    "\n"
   ]
  },
  {
   "cell_type": "code",
   "execution_count": 23,
   "id": "2c3d739e",
   "metadata": {},
   "outputs": [
    {
     "name": "stdout",
     "output_type": "stream",
     "text": [
      "(2, 1, 2, 1, 1, 1, 1, 1, 1, 5)\n"
     ]
    },
    {
     "data": {
      "image/png": "[encoded data removed]",
      "text/plain": [
       "<Figure size 432x288 with 1 Axes>"
      ]
     },
     "metadata": {
      "needs_background": "light"
     },
     "output_type": "display_data"
    }
   ],
   "source": [
    "print(flei_inf[1][:10])\n",
    "plot_histogram_with_frequencies(flei_inf[1][:])"
   ]
  },
  {
   "cell_type": "code",
   "execution_count": null,
   "id": "7e63e96e",
   "metadata": {},
   "outputs": [],
   "source": []
  },
  {
   "cell_type": "code",
   "execution_count": null,
   "id": "f9446f2a",
   "metadata": {},
   "outputs": [],
   "source": [
    "def plot_violin(data, title='Violin Plot'):\n",
    "    plt.figure(figsize=(8, 6))  # Tamaño opcional para la figura\n",
    "    sns.violinplot(data=data, orient='v')\n",
    "    plt.title(title)\n",
    "    plt.xlabel('Datos')\n",
    "    plt.ylabel('Valor')\n",
    "    plt.show()\n"
   ]
  },
  {
   "cell_type": "code",
   "execution_count": null,
   "id": "a029c241",
   "metadata": {},
   "outputs": [],
   "source": [
    "plot_violin(resultados_infactibles[1])"
   ]
  },
  {
   "cell_type": "code",
   "execution_count": null,
   "id": "a60366a8",
   "metadata": {},
   "outputs": [],
   "source": []
  },
  {
   "cell_type": "code",
   "execution_count": null,
   "id": "fc036f9a",
   "metadata": {},
   "outputs": [],
   "source": [
    "plot_dual_violin(resultados_infactibles[1], resultados_factibles[1][1:])"
   ]
  },
  {
   "cell_type": "code",
   "execution_count": null,
   "id": "12f124bb",
   "metadata": {},
   "outputs": [],
   "source": [
    "\n",
    "# Transformar columnas en filas\n",
    "filas_transformadas = list(zip(*resultados_infactibles))\n",
    "filas_transformadas_f = list(zip(*resultados_factibles))"
   ]
  },
  {
   "cell_type": "code",
   "execution_count": null,
   "id": "dc3d1abc",
   "metadata": {},
   "outputs": [],
   "source": [
    "print(len(filas_transformadas[1]))\n",
    "print(len(filas_transformadas_f[1]))\n",
    "\n",
    "plot_dual_violin(filas_transformadas[1], filas_transformadas_f[1][1:])"
   ]
  },
  {
   "cell_type": "code",
   "execution_count": null,
   "id": "31dd31b9",
   "metadata": {},
   "outputs": [],
   "source": [
    "scatter_plot(filas_transformadas[1])"
   ]
  },
  {
   "cell_type": "code",
   "execution_count": null,
   "id": "c57cbc58",
   "metadata": {},
   "outputs": [],
   "source": [
    "\n"
   ]
  },
  {
   "cell_type": "code",
   "execution_count": null,
   "id": "0e143042",
   "metadata": {},
   "outputs": [],
   "source": [
    "scatter_plot(filas_transformadas_f[1])"
   ]
  },
  {
   "cell_type": "code",
   "execution_count": null,
   "id": "faebac4c",
   "metadata": {},
   "outputs": [],
   "source": [
    "scatter_plot2(filas_transformadas_f[1], filas_transformadas[1])"
   ]
  },
  {
   "cell_type": "code",
   "execution_count": null,
   "id": "e80ae5be",
   "metadata": {},
   "outputs": [],
   "source": [
    "scatter_plot2(resultados_infactibles[1], resultados_factibles[1])"
   ]
  },
  {
   "cell_type": "code",
   "execution_count": null,
   "id": "8b56d089",
   "metadata": {},
   "outputs": [],
   "source": []
  }
 ],
 "metadata": {
  "kernelspec": {
   "display_name": "Python 3 (ipykernel)",
   "language": "python",
   "name": "python3"
  },
  "language_info": {
   "codemirror_mode": {
    "name": "ipython",
    "version": 3
   },
   "file_extension": ".py",
   "mimetype": "text/x-python",
   "name": "python",
   "nbconvert_exporter": "python",
   "pygments_lexer": "ipython3",
   "version": "3.9.12"
  }
 },
 "nbformat": 4,
 "nbformat_minor": 5
}
